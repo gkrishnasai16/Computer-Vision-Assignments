{
 "cells": [
  {
   "cell_type": "code",
   "execution_count": 8,
   "metadata": {},
   "outputs": [],
   "source": [
    "import cv2\n",
    "import numpy as np\n",
    "from copy import deepcopy\n"
   ]
  },
  {
   "cell_type": "code",
   "execution_count": 9,
   "metadata": {},
   "outputs": [],
   "source": [
    "# Read the image\n",
    "img = cv2.imread('image.jpg')\n",
    "\n",
    "# Convert the image to grayscale\n",
    "img_bw = cv2.cvtColor(img, cv2.COLOR_BGR2GRAY)\n"
   ]
  },
  {
   "cell_type": "code",
   "execution_count": 10,
   "metadata": {},
   "outputs": [],
   "source": [
    "# Initialize integral image to 0\n",
    "intergal_img = [[0 for j in range(len(img_bw[0]))] for i in range(len(img_bw))]\n",
    "\n",
    "# Copy pixel values from the grayscale image\n",
    "for i in range(len(img_bw)):\n",
    "    for j in range(len(img_bw[0])):\n",
    "        intergal_img[i][j] = int(img_bw[i][j])\n",
    "\n",
    "# Calculate the integral image\n",
    "for i in range(1, len(img_bw[0])):\n",
    "    intergal_img[0][i] += intergal_img[0][i-1] \n",
    "\n",
    "for j in range(1, len(img_bw)):\n",
    "    intergal_img[j][0] += intergal_img[j-1][0]\n",
    "    \n",
    "for i in range(1, len(img_bw)):\n",
    "    for j in range(1, len(img_bw[0])):\n",
    "        intergal_img[i][j] = intergal_img[i-1][j] + intergal_img[i][j-1] - intergal_img[i-1][j-1] + img_bw[i][j]\n"
   ]
  },
  {
   "cell_type": "code",
   "execution_count": 11,
   "metadata": {},
   "outputs": [],
   "source": [
    "# Convert integral image to numpy array\n",
    "a = np.array(intergal_img)\n",
    "mat = np.matrix(a)\n",
    "\n",
    "# Save the integral image to a text file\n",
    "with open('integral_matrix.txt','wb') as f:\n",
    "    for line in mat:\n",
    "        np.savetxt(f, line, fmt=\"%d\")\n"
   ]
  },
  {
   "cell_type": "code",
   "execution_count": 13,
   "metadata": {},
   "outputs": [
    {
     "data": {
      "text/plain": [
       "True"
      ]
     },
     "execution_count": 13,
     "metadata": {},
     "output_type": "execute_result"
    }
   ],
   "source": [
    "import cv2\n",
    "import numpy as np\n",
    "\n",
    "# Load the RGB image\n",
    "img_rgb = cv2.imread('image.jpg')\n",
    "\n",
    "# Load the integral image\n",
    "with open('integral_matrix.txt', 'rb') as f:\n",
    "    integral_matrix = np.loadtxt(f)\n",
    "\n",
    "# Normalize the integral image for display\n",
    "integral_image = cv2.normalize(integral_matrix, None, 0, 255, cv2.NORM_MINMAX, dtype=cv2.CV_8U)\n",
    "\n",
    "# Create a window to display both images\n",
    "cv2.namedWindow('RGB and Integral Image', cv2.WINDOW_NORMAL)\n",
    "cv2.resizeWindow('RGB and Integral Image', (2 * img_rgb.shape[1], img_rgb.shape[0]))\n",
    "\n",
    "# Concatenate the RGB and integral images horizontally\n",
    "display_img = np.concatenate((img_rgb, cv2.cvtColor(integral_image, cv2.COLOR_GRAY2BGR)), axis=1)\n",
    "\n",
    "# Display the concatenated image\n",
    "cv2.imshow('RGB and Integral Image', display_img)\n",
    "cv2.waitKey(0)\n",
    "cv2.destroyAllWindows()\n",
    "\n",
    "# Save the integral image to a file\n",
    "cv2.imwrite('integral_image_display.png', display_img)"
   ]
  },
  {
   "cell_type": "code",
   "execution_count": null,
   "metadata": {},
   "outputs": [],
   "source": []
  }
 ],
 "metadata": {
  "kernelspec": {
   "display_name": "Python 3 (ipykernel)",
   "language": "python",
   "name": "python3"
  },
  "language_info": {
   "codemirror_mode": {
    "name": "ipython",
    "version": 3
   },
   "file_extension": ".py",
   "mimetype": "text/x-python",
   "name": "python",
   "nbconvert_exporter": "python",
   "pygments_lexer": "ipython3",
   "version": "3.10.9"
  }
 },
 "nbformat": 4,
 "nbformat_minor": 2
}
