{
 "cells": [
  {
   "cell_type": "markdown",
   "metadata": {},
   "source": [
    "Question 4"
   ]
  },
  {
   "cell_type": "markdown",
   "metadata": {},
   "source": [
    "For the video (problem 1) you have taken, plot the optical flow vectors on each frame using MATLAB’s optical flow codes.\n",
    "(i) treating every previous frame as a reference frame \n",
    "(ii) treating every 11th frame as a reference frame \n",
    "(iii) treating every 31st frame as a reference frame"
   ]
  },
  {
   "cell_type": "code",
   "execution_count": 1,
   "metadata": {},
   "outputs": [],
   "source": [
    "import cv2\n",
    "import depthai as dai\n",
    "import numpy as np\n",
    "\n",
    "import glob\n",
    "import re \n",
    "from pathlib import Path"
   ]
  },
  {
   "cell_type": "code",
   "execution_count": 2,
   "metadata": {},
   "outputs": [],
   "source": [
    "# function for sorting the video frames into order\n",
    "numbers = re.compile(r'(\\d+)')\n",
    "def numericalSort(value):\n",
    "    parts = numbers.split(value)\n",
    "    parts[1::2] = map(int, parts[1::2])\n",
    "    return parts\n",
    "\n",
    "# taking a frame at a time and appending into img_array\n",
    "# in numerical order\n",
    "frame_array = []\n",
    "for filename in sorted(glob.glob('../video_frames/*.png'), key= numericalSort ):\n",
    "    frame = cv2.imread(filename)\n",
    "    frame_array.append(frame)"
   ]
  },
  {
   "cell_type": "code",
   "execution_count": 3,
   "metadata": {},
   "outputs": [],
   "source": [
    "# ShiTomasi corner detection params\n",
    "st_params = dict( maxCorners = 100,\n",
    "                       qualityLevel = 0.3,\n",
    "                       minDistance = 7,\n",
    "                       blockSize = 7 )\n",
    "\n",
    "# lucas kanade optical flow params\n",
    "lk_params = dict( winSize  = (15,15),\n",
    "                  maxLevel = 2,\n",
    "                  criteria = (cv2.TERM_CRITERIA_EPS | cv2.TERM_CRITERIA_COUNT, 10, 0.03))\n",
    "\n",
    "# Create some random colors\n",
    "color = np.random.randint(0,255,(100,3))\n",
    "\n",
    "# Make sure the destination path is present before starting to store the examples\n",
    "Path(f\"./optical_flow/\").mkdir(parents=True, exist_ok=True)"
   ]
  },
  {
   "cell_type": "code",
   "execution_count": 4,
   "metadata": {},
   "outputs": [],
   "source": [
    "'''\n",
    "    plots the optical flow vectors on each frame\n",
    "    treating every nth frame as a reference frame\n",
    "    default: every previous frame (n = 1)\n",
    "'''\n",
    "\n",
    "def optical_flow(n=1):\n",
    "    # Take first frame from frame array and \n",
    "    # find good corners in it\n",
    "    old_gray = cv2.cvtColor(frame_array[0], cv2.COLOR_BGR2GRAY)\n",
    "    p0 = cv2.goodFeaturesToTrack(old_gray, mask=None, **st_params)\n",
    "\n",
    "    # Create a mask image for drawing purposes\n",
    "    mask = np.zeros_like(frame_array[0])\n",
    "\n",
    "    # for each frame in frame_array, \n",
    "    # find corners and compare with previous frame\n",
    "    for frame in frame_array[::n]:\n",
    "        frame_gray = cv2.cvtColor(frame, cv2.COLOR_BGR2GRAY)\n",
    "\n",
    "        # calculate optical flow\n",
    "        p1, st, err = cv2.calcOpticalFlowPyrLK(old_gray, frame_gray, p0, None, **lk_params)\n",
    "\n",
    "        # Select good points\n",
    "        if p1 is not None and st is not None:\n",
    "            good_new = p1[st == 1]\n",
    "            good_old = p0[st == 1]\n",
    "\n",
    "            # draw the tracks\n",
    "            for i, (new, old) in enumerate(zip(good_new, good_old)):\n",
    "                a, b = new.ravel()\n",
    "                c, d = old.ravel()\n",
    "                mask = cv2.line(mask, (int(a), int(b)), (int(c), int(d)), color[i].tolist(), 2)\n",
    "                frame = cv2.circle(frame, (int(a), int(b)), 5, color[i].tolist(), -1)\n",
    "            img = cv2.add(frame, mask)\n",
    "\n",
    "            cv2.imshow('frame', img)\n",
    "            cv2.waitKey(10 + n)\n",
    "\n",
    "            # Now update the previous frame and previous points\n",
    "            old_gray = frame_gray.copy()\n",
    "            p0 = good_new.reshape(-1, 1, 2)\n",
    "\n",
    "            cv2.imwrite(\"./optical_flow/\"+str(n)+\".png\", img)\n",
    "            cv2.imwrite(\"./optical_flow/\"+str(n)+\"_mask.png\", mask)\n",
    "    cv2.destroyAllWindows()\n"
   ]
  },
  {
   "cell_type": "code",
   "execution_count": 5,
   "metadata": {},
   "outputs": [],
   "source": [
    "# treating every previous frame as a reference frame\n",
    "optical_flow()"
   ]
  },
  {
   "cell_type": "code",
   "execution_count": 6,
   "metadata": {},
   "outputs": [],
   "source": [
    "# treating every 11th frame as a reference frame\n",
    "optical_flow(10)"
   ]
  },
  {
   "cell_type": "code",
   "execution_count": 7,
   "metadata": {},
   "outputs": [],
   "source": [
    "# treating every 31th frame as a reference frame\n",
    "optical_flow(30)"
   ]
  },
  {
   "cell_type": "code",
   "execution_count": null,
   "metadata": {},
   "outputs": [],
   "source": []
  }
 ],
 "metadata": {
  "kernelspec": {
   "display_name": "Python 3 (ipykernel)",
   "language": "python",
   "name": "python3"
  },
  "language_info": {
   "codemirror_mode": {
    "name": "ipython",
    "version": 3
   },
   "file_extension": ".py",
   "mimetype": "text/x-python",
   "name": "python",
   "nbconvert_exporter": "python",
   "pygments_lexer": "ipython3",
   "version": "3.10.9"
  }
 },
 "nbformat": 4,
 "nbformat_minor": 2
}
