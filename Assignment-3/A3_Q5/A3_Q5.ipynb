{
 "cells": [
  {
   "cell_type": "markdown",
   "metadata": {},
   "source": [
    "Question 5"
   ]
  },
  {
   "cell_type": "markdown",
   "metadata": {},
   "source": [
    "Run the feature-based matching object detection on the images from problem (1)."
   ]
  },
  {
   "cell_type": "code",
   "execution_count": 28,
   "metadata": {},
   "outputs": [],
   "source": [
    "import cv2\n",
    "import numpy as np\n",
    "from pathlib import Path\n",
    "import matplotlib.pyplot as plt"
   ]
  },
  {
   "cell_type": "code",
   "execution_count": 29,
   "metadata": {},
   "outputs": [],
   "source": [
    "# import depthai as dai\n",
    "\n",
    "# # Define the function to capture an image using the OAK camera\n",
    "# def capture_image():\n",
    "#     # Start defining a pipeline\n",
    "#     pipeline = dai.Pipeline()\n",
    "\n",
    "#     # Define a source - color camera\n",
    "#     cam = pipeline.createColorCamera()\n",
    "#     cam.setResolution(dai.ColorCameraProperties.SensorResolution.THE_1080_P)\n",
    "\n",
    "#     # Create output\n",
    "#     xout = pipeline.createXLinkOut()\n",
    "#     xout.setStreamName(\"video\")\n",
    "#     cam.video.link(xout.input)\n",
    "\n",
    "#     # Connect and start the pipeline\n",
    "#     with dai.Device(pipeline) as device:\n",
    "#         # Output queue will be used to get the frames from the output defined above\n",
    "#         q = device.getOutputQueue(name=\"video\", maxSize=1, blocking=True)\n",
    "\n",
    "#         # Get the frames from the camera\n",
    "#         frame = None\n",
    "#         while True:\n",
    "#             in_video = q.get()\n",
    "#             frame = in_video.getCvFrame()\n",
    "#             cv2.imshow(\"OAK Camera\", frame)\n",
    "            \n",
    "#             # Press 's' to capture the image\n",
    "#             key = cv2.waitKey(1) & 0xFF\n",
    "#             if key == ord(\"s\"):\n",
    "#                 # Save the captured frame to a file named \"oak_image.png\"\n",
    "#                 cv2.imwrite(\"capture.jpg\", frame)\n",
    "#                 break\n",
    "\n",
    "#         # Release the camera\n",
    "#         cv2.destroyAllWindows()\n",
    "\n",
    "# # Call the function to capture an image\n",
    "# capture_image()\n"
   ]
  },
  {
   "cell_type": "code",
   "execution_count": 30,
   "metadata": {},
   "outputs": [],
   "source": [
    "# a few images i took with my oakd lite color camera \n",
    "# and cropped to get the obects in frame\n",
    "\n",
    "# total scene\n",
    "img = cv2.imread(\"capture.jpeg\")\n",
    "cv2.imshow(\"captured image\", img)\n",
    "cv2.waitKey(1000)\n",
    "cv2.destroyAllWindows()\n",
    "\n",
    "# objects \n",
    "pattern1 = cv2.imread(\"pattern-1.png\")\n",
    "pattern2 = cv2.imread(\"pattern-2.png\")\n",
    "\n",
    "cv2.imshow(\"pattern 1\", pattern1)\n",
    "cv2.waitKey(1000)\n",
    "cv2.destroyAllWindows()\n",
    "\n",
    "cv2.imshow(\"pattern 2\", pattern2)\n",
    "cv2.waitKey(1000)\n",
    "cv2.destroyAllWindows()"
   ]
  },
  {
   "cell_type": "code",
   "execution_count": 31,
   "metadata": {},
   "outputs": [],
   "source": [
    "cv2.destroyAllWindows()\n",
    "\n",
    "# objects \n",
    "pattern1 = cv2.imread(\"pattern-1.png\")\n",
    "pattern2 = cv2.imread(\"pattern-2.png\")\n",
    "\n",
    "cv2.imshow(\"pattern 1\", pattern1)\n",
    "cv2.waitKey(1000)\n",
    "cv2.destroyAllWindows()\n",
    "\n",
    "cv2.imshow(\"pattern 2\", pattern2)\n",
    "cv2.waitKey(1000)\n",
    "cv2.destroyAllWindows()"
   ]
  },
  {
   "cell_type": "markdown",
   "metadata": {},
   "source": [
    "Feature based Object detection algorithm"
   ]
  },
  {
   "cell_type": "code",
   "execution_count": 40,
   "metadata": {},
   "outputs": [],
   "source": [
    "from pathlib import Path\n",
    "\n",
    "def object_detection(img, template, output_file=\"\"):\n",
    "    Path(f\"object_detected\").mkdir(parents=True, exist_ok=True)\n",
    "\n",
    "    gray_img = cv2.cvtColor(img, cv2.COLOR_BGR2GRAY)\n",
    "    gray_temp = cv2.cvtColor(template, cv2.COLOR_BGR2GRAY)\n",
    "\n",
    "    # Resize template to make it comparable\n",
    "    h, w = gray_temp.shape\n",
    "    new_w = int(w * 0.4)  # Reduce width by 20%\n",
    "    new_h = int(h * 0.4)  # Reduce height by 20%\n",
    "    resized_temp = cv2.resize(gray_temp, (new_w, new_h))\n",
    "\n",
    "    # Feature based obj detection with different method\n",
    "    method = cv2.TM_CCOEFF_NORMED\n",
    "    result = cv2.matchTemplate(gray_img, resized_temp, method)\n",
    "    \n",
    "    # Finding the location with maximum score\n",
    "    min_val, max_val, min_loc, max_loc = cv2.minMaxLoc(result)\n",
    "    top_left = max_loc\n",
    "    \n",
    "    # Adjusting the size of the rectangle\n",
    "    bottom_right = (top_left[0] + new_w, top_left[1] + new_h)\n",
    "    \n",
    "    # Draw Rectangle\n",
    "    cv2.rectangle(img, top_left, bottom_right, (0, 255, 0), 2)  # Green rectangle\n",
    "\n",
    "    cv2.imshow(\"Pattern Match\", img)\n",
    "    cv2.waitKey(1000)\n",
    "    \n",
    "    if output_file:\n",
    "        cv2.imwrite(\"object_detected/\" + output_file + \".png\", img)\n",
    "        \n",
    "    cv2.destroyAllWindows()\n"
   ]
  },
  {
   "cell_type": "code",
   "execution_count": 41,
   "metadata": {},
   "outputs": [],
   "source": [
    "img = cv2.imread(\"capture.jpeg\")\n",
    "\n",
    "# pattern 1 image detection\n",
    "object_detection(img, pattern1, \"pattern1\")\n",
    "\n",
    "img = cv2.imread(\"capture.jpeg\")\n",
    "\n",
    "# pattern 2 image detection\n",
    "object_detection(img, pattern2, \"pattern2\")"
   ]
  },
  {
   "cell_type": "code",
   "execution_count": null,
   "metadata": {},
   "outputs": [],
   "source": []
  }
 ],
 "metadata": {
  "kernelspec": {
   "display_name": "Python 3 (ipykernel)",
   "language": "python",
   "name": "python3"
  },
  "language_info": {
   "codemirror_mode": {
    "name": "ipython",
    "version": 3
   },
   "file_extension": ".py",
   "mimetype": "text/x-python",
   "name": "python",
   "nbconvert_exporter": "python",
   "pygments_lexer": "ipython3",
   "version": "3.10.9"
  }
 },
 "nbformat": 4,
 "nbformat_minor": 2
}
