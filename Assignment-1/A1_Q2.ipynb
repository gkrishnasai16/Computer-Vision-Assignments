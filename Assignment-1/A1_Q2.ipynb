{
 "cells": [
  {
   "cell_type": "markdown",
   "id": "ae1fc9bb",
   "metadata": {},
   "source": [
    "'''\n",
    "Question 2 : \n",
    "Point the camera to a chessboard pattern or any known set of reference points that lie on the\n",
    "same plane. Capture a series of 10 images by changing the orientation of the camera in each\n",
    "iteration. Select any 1 image, and using the image formation pipeline equation, set up the linear\n",
    "equations in matrix form and solve for intrinsic and extrinsic parameters (extrinsic for that\n",
    "particular orientation). You will need to make measurements of the actual 3D world points, and\n",
    "mark pixel coordinates. Once you compute the Rotation matrix, you also need to compute the\n",
    "angles of rotation along each axis. Choose your order of rotation based on your experimentation\n",
    "setup.\n",
    "'''\n",
    "\n",
    " Camera calibration and parameter estimation completed in Question 1\n",
    " \n",
    " Intrinsic and extrinsic parameters have been computed\n",
    " \n",
    " Rotation angles along each axis have been calculated\n",
    " \n",
    " Calibration results are stored and can be used for further processing\n"
   ]
  },
  {
   "cell_type": "code",
   "execution_count": 20,
   "id": "fff861db",
   "metadata": {},
   "outputs": [],
   "source": [
    "#  Importing necessary packages\n",
    "import numpy as np\n",
    "import cv2\n",
    "from scipy.spatial.transform import Rotation\n",
    "import math\n",
    "from math import cos, sin, radians, sqrt"
   ]
  },
  {
   "cell_type": "code",
   "execution_count": 21,
   "id": "10278aa5",
   "metadata": {},
   "outputs": [
    {
     "name": "stdout",
     "output_type": "stream",
     "text": [
      "Rotation vector:\n",
      "[[[-0.1857 ]\n",
      "  [ 0.02907]\n",
      "  [ 0.10722]]\n",
      "\n",
      " [[-0.1838 ]\n",
      "  [ 0.02887]\n",
      "  [ 0.11115]]\n",
      "\n",
      " [[-0.18689]\n",
      "  [ 0.02503]\n",
      "  [ 0.1073 ]]\n",
      "\n",
      " [[-0.18931]\n",
      "  [-0.00639]\n",
      "  [ 0.10485]]\n",
      "\n",
      " [[-0.19842]\n",
      "  [-0.01795]\n",
      "  [ 0.10114]]\n",
      "\n",
      " [[-0.20038]\n",
      "  [-0.01522]\n",
      "  [ 0.10452]]\n",
      "\n",
      " [[-0.20682]\n",
      "  [-0.09657]\n",
      "  [ 0.11011]]\n",
      "\n",
      " [[-0.21133]\n",
      "  [-0.10965]\n",
      "  [ 0.11204]]\n",
      "\n",
      " [[-0.20612]\n",
      "  [-0.1303 ]\n",
      "  [ 0.11095]]\n",
      "\n",
      " [[-0.22102]\n",
      "  [-0.19021]\n",
      "  [ 0.11096]]]\n"
     ]
    }
   ],
   "source": [
    "# Reading the rotational vectors from saved files from Question 1, Run q2 only after q1 as we have necessary files generated from q1\n",
    "rot_v = []\n",
    "\n",
    "with open('images/left/rotat_vector.txt', 'r') as f:\n",
    "    for line in f :\n",
    "        rot_v.append([[float(num)] for num in line.split(' ')])\n",
    "\n",
    "np_rot_v = np.array(rot_v)\n",
    "\n",
    "print(\"Rotation vector:\")    \n",
    "print(np_rot_v)"
   ]
  },
  {
   "cell_type": "code",
   "execution_count": 22,
   "id": "ec4e389a-ed84-4ad9-b9c0-59a472da00ba",
   "metadata": {},
   "outputs": [
    {
     "name": "stdout",
     "output_type": "stream",
     "text": [
      "ROTATIONAL MATRIX\n",
      "[[[ 0.99385344 -0.10907382  0.01892707]\n",
      "  [ 0.10369655  0.97709926  0.18580651]\n",
      "  [-0.03876025 -0.18270176  0.98240405]]]\n"
     ]
    }
   ],
   "source": [
    "r_obj = Rotation.from_rotvec(np.array(rot_v[0]).reshape(1,3))\n",
    "rot_matrix = r_obj.as_matrix()\n",
    "\n",
    "print(\"ROTATIONAL MATRIX\")\n",
    "print(rot_matrix)"
   ]
  },
  {
   "cell_type": "code",
   "execution_count": 23,
   "id": "306efcda-a429-4745-ab96-7f5177561f66",
   "metadata": {},
   "outputs": [],
   "source": [
    "# Creation of rotation matrix from rotation vector\n",
    "xc, xs = cos(radians(np_rot_v[0][0][0])), sin(radians(np_rot_v[0][0][0]))\n",
    "yc, ys = cos(radians(np_rot_v[0][1][0])), sin(radians(np_rot_v[0][1][0]))\n",
    "zc, zs = cos(radians(np_rot_v[0][2][0])), sin(radians(np_rot_v[0][2][0]))"
   ]
  },
  {
   "cell_type": "code",
   "execution_count": 24,
   "id": "2f99b4d0-33fc-4ac9-82a0-ea76577c31b3",
   "metadata": {},
   "outputs": [],
   "source": [
    "#Creation of  rotation matrices along x,y and z\n",
    "rot_x_mtx = np.array([[1,0,0,0],[0,xc,-xs,0],[0,xs,-xc,0],[0,0,0,1]])\n",
    "rot_y_mtx = np.array([[yc,0,ys,0],[0,1,0,0],[-ys,0,yc,0],[0,0,0,1]])\n",
    "rot_z_mtx = np.array([[zc,-zs,0,0],[zs,zc,0,0],[0,0,1,0],[0,0,0,1]])"
   ]
  },
  {
   "cell_type": "code",
   "execution_count": 25,
   "id": "091474fa-c0b3-4f32-b51b-6244c90422cc",
   "metadata": {},
   "outputs": [
    {
     "name": "stdout",
     "output_type": "stream",
     "text": [
      "Transation vector:\n",
      "[[[-3.31369]\n",
      "  [-0.56776]\n",
      "  [20.42826]]\n",
      "\n",
      " [[-3.26923]\n",
      "  [-0.57757]\n",
      "  [20.35418]]\n",
      "\n",
      " [[-3.32057]\n",
      "  [-0.54081]\n",
      "  [20.40253]]\n",
      "\n",
      " [[-3.63059]\n",
      "  [-0.47074]\n",
      "  [20.28873]]\n",
      "\n",
      " [[-3.74412]\n",
      "  [-0.45657]\n",
      "  [20.30384]]\n",
      "\n",
      " [[-3.71272]\n",
      "  [-0.50046]\n",
      "  [20.32934]]\n",
      "\n",
      " [[-4.38982]\n",
      "  [-0.4844 ]\n",
      "  [20.01704]]\n",
      "\n",
      " [[-4.40781]\n",
      "  [-0.44853]\n",
      "  [19.97235]]\n",
      "\n",
      " [[-4.53733]\n",
      "  [-0.45645]\n",
      "  [19.73867]]\n",
      "\n",
      " [[-5.10888]\n",
      "  [-0.37821]\n",
      "  [19.46239]]]\n"
     ]
    }
   ],
   "source": [
    "# Reading the translation vectors from saved files\n",
    "\n",
    "tra_v = []\n",
    "\n",
    "with open('images/left/trans_vector.txt', 'r') as f:\n",
    "    for line in f :\n",
    "        tra_v.append([[float(num)] for num in line.split(' ')])\n",
    "        \n",
    "np_tra_v = np.array(tra_v)\n",
    "\n",
    "print(\"Transation vector:\")    \n",
    "print(np_tra_v)"
   ]
  },
  {
   "cell_type": "code",
   "execution_count": 26,
   "id": "2b598752-e64e-44aa-b92c-3a526341ed35",
   "metadata": {},
   "outputs": [
    {
     "name": "stdout",
     "output_type": "stream",
     "text": [
      "TRANSLATIONAL MATRIX\n",
      "[[ 1.       0.       0.      -3.31369]\n",
      " [ 0.       1.       0.      -0.56776]\n",
      " [ 0.       0.       1.      20.42826]\n",
      " [ 0.       0.       0.       1.     ]]\n"
     ]
    }
   ],
   "source": [
    "# Translated matrix\n",
    "tx = np_tra_v[0][0][0]\n",
    "ty = np_tra_v[0][1][0]\n",
    "tz = np_tra_v[0][2][0]\n",
    "trans_mtx = np.array([[1,0,0,tx],[0,1,0,ty],[0,0,1,tz],[0,0,0,1]])\n",
    "\n",
    "print(\"TRANSLATIONAL MATRIX\")\n",
    "print(trans_mtx)"
   ]
  },
  {
   "cell_type": "code",
   "execution_count": 27,
   "id": "e2de5c15-afe8-478e-a275-addb4a0cfbc9",
   "metadata": {},
   "outputs": [
    {
     "name": "stdout",
     "output_type": "stream",
     "text": [
      "CAMERA INTRINSIC MATRIX:\n",
      "[[665.00877, 0.0, 370.79036], [0.0, 693.47776, 165.44084], [0.0, 0.0, 1.0]]\n"
     ]
    }
   ],
   "source": [
    "# Reading the intrinsic camera matrix from saved files\n",
    "\n",
    "c_mtx = []\n",
    " \n",
    "with open('images/left/camera_matrix.txt', 'r') as f:\n",
    "    for line in f :\n",
    "        c_mtx.append([float(num) for num in line.split(' ')])\n",
    "\n",
    "print(\"CAMERA INTRINSIC MATRIX:\")\n",
    "print(c_mtx)"
   ]
  },
  {
   "cell_type": "code",
   "execution_count": 28,
   "id": "46848b1b-0da5-4d90-9025-7497e9101b56",
   "metadata": {},
   "outputs": [
    {
     "name": "stdout",
     "output_type": "stream",
     "text": [
      "Intrinsinc mtx:\n",
      "[[665.00877   0.      370.79036   0.     ]\n",
      " [  0.      693.47776 165.44084   0.     ]\n",
      " [  0.        0.        1.        1.     ]\n",
      " [  0.        0.        0.        1.     ]]\n"
     ]
    }
   ],
   "source": [
    "# Intrinsic matrix\n",
    "\n",
    "int_mtx = np.append(np.append(c_mtx, [[0],[0],[1]], axis=1), [np.array([0,0,0,1])], axis=0)\n",
    "print('Intrinsinc mtx:')\n",
    "print(int_mtx)"
   ]
  },
  {
   "cell_type": "code",
   "execution_count": 29,
   "id": "aa944e49-6f9e-46cb-9a30-84a0c0a25b65",
   "metadata": {},
   "outputs": [
    {
     "name": "stdout",
     "output_type": "stream",
     "text": [
      "Extrinsinc mtx\n",
      "[[ 9.99998120e-01 -1.87297551e-03 -5.13428787e-04 -3.32310883e+00]\n",
      " [ 1.87134069e-03  9.99992994e-01  3.24011562e-03 -5.07767141e-01]\n",
      " [-5.07367192e-04 -3.24107033e-03 -9.99994619e-01 -2.04246287e+01]\n",
      " [ 0.00000000e+00  0.00000000e+00  0.00000000e+00  1.00000000e+00]]\n"
     ]
    }
   ],
   "source": [
    "# Extrinsic matrix\n",
    "\n",
    "ext_mtx = np.dot(rot_z_mtx, np.dot(rot_y_mtx, np.dot(rot_x_mtx, trans_mtx)))\n",
    "print('Extrinsinc mtx')\n",
    "print(ext_mtx)"
   ]
  },
  {
   "cell_type": "code",
   "execution_count": 30,
   "id": "39aec402",
   "metadata": {},
   "outputs": [
    {
     "name": "stdout",
     "output_type": "stream",
     "text": [
      "CAMERA MATRIX: \n",
      "[[ 6.64819393e+02 -2.44730278e+00 -3.71129799e+02 -9.78315193e+03]\n",
      " [ 1.21379390e+00  6.92936696e+02 -1.63193002e+02 -3.73119294e+03]\n",
      " [-5.07367192e-04 -3.24107033e-03 -9.99994619e-01 -1.94246287e+01]\n",
      " [ 0.00000000e+00  0.00000000e+00  0.00000000e+00  1.00000000e+00]]\n"
     ]
    }
   ],
   "source": [
    "# Camera Matrix\n",
    "\n",
    "camera_matrix = np.dot(int_mtx, ext_mtx)\n",
    "print(\"CAMERA MATRIX: \")\n",
    "print(camera_matrix)"
   ]
  },
  {
   "cell_type": "code",
   "execution_count": 31,
   "id": "847e72c7-de62-4e1c-8997-8ee6fa2b1e27",
   "metadata": {},
   "outputs": [],
   "source": [
    "# Calculate the inverse of the camera matrix to transform from image plane to real-world coordinates\n",
    "inverse_mat = -np.linalg.inv(camera_matrix) \n",
    "\n",
    "# Homogeneous coordinates of two points in the image plane\n",
    "project_points1 = np.array([[5],[10],[30],[1]])\n",
    "project_points2 = np.array([[100],[90],[30],[1]])\n",
    "\n",
    "# Transform points from image plane to real-world coordinates\n",
    "real_dim_p1 = inverse_mat.dot(project_points1)\n",
    "real_dim_p2 = inverse_mat.dot(project_points2)\n"
   ]
  },
  {
   "cell_type": "code",
   "execution_count": 40,
   "id": "cb749409",
   "metadata": {},
   "outputs": [
    {
     "name": "stdout",
     "output_type": "stream",
     "text": [
      "Roll (X axis rotation): 16.378851795859873 degrees\n",
      "Pitch (Y axis rotation): 27.27427649006175 degrees\n",
      "Yaw (Z axis rotation): 61.28613581953306 degrees\n"
     ]
    }
   ],
   "source": [
    "#  this matrix below is the rotational matrix we got earlier\n",
    "\n",
    "R = np.array([[ 0.99385344, -0.10907382,  0.01892707],\n",
    "              [ 0.10369655,  0.97709926,  0.18580651],\n",
    "              [-0.03876025, -0.18270176,  0.98240405]])\n",
    "\n",
    "# Using cv2.RQDecomp3x3() to decompose the rotation matrix into Euler angles\n",
    "roll_pitch_yaw = cv2.RQDecomp3x3(R)[0]\n",
    "\n",
    "# Extracting individual Euler angles\n",
    "roll = roll_pitch_yaw[0]\n",
    "pitch = roll_pitch_yaw[1]\n",
    "yaw = roll_pitch_yaw[2]\n",
    "\n",
    "# Normalize Euler angles to standard ranges\n",
    "def normalize_angle(angle):\n",
    "    return (angle) % 180 - 100\n",
    "\n",
    "# Convert angles from radians to degrees\n",
    "roll_degrees = np.degrees(roll)\n",
    "pitch_degrees = np.degrees(pitch)\n",
    "yaw_degrees = np.degrees(yaw)\n",
    "\n",
    "print(\"Roll (X axis rotation):\", normalize_angle(roll_degrees), \"degrees\")\n",
    "print(\"Pitch (Y axis rotation):\", normalize_angle(pitch_degrees), \"degrees\")\n",
    "print(\"Yaw (Z axis rotation):\", normalize_angle(yaw_degrees), \"degrees\")"
   ]
  },
  {
   "cell_type": "code",
   "execution_count": null,
   "id": "5d98df1d",
   "metadata": {},
   "outputs": [],
   "source": []
  }
 ],
 "metadata": {
  "kernelspec": {
   "display_name": "Python 3 (ipykernel)",
   "language": "python",
   "name": "python3"
  },
  "language_info": {
   "codemirror_mode": {
    "name": "ipython",
    "version": 3
   },
   "file_extension": ".py",
   "mimetype": "text/x-python",
   "name": "python",
   "nbconvert_exporter": "python",
   "pygments_lexer": "ipython3",
   "version": "3.10.9"
  }
 },
 "nbformat": 4,
 "nbformat_minor": 5
}
